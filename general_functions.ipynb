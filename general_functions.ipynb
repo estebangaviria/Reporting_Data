{
 "cells": [
  {
   "cell_type": "code",
   "execution_count": 1,
   "outputs": [],
   "source": [
    "import pandas as pd\n",
    "from datetime import datetime\n",
    "import os\n",
    "import glob"
   ],
   "metadata": {
    "collapsed": false,
    "ExecuteTime": {
     "end_time": "2023-09-10T03:21:44.964994300Z",
     "start_time": "2023-09-10T03:21:44.059988100Z"
    }
   },
   "id": "58692daec33752c9"
  },
  {
   "cell_type": "code",
   "execution_count": 5,
   "id": "initial_id",
   "metadata": {
    "collapsed": true,
    "ExecuteTime": {
     "end_time": "2023-09-10T03:12:50.456168300Z",
     "start_time": "2023-09-10T03:12:50.379166500Z"
    }
   },
   "outputs": [],
   "source": [
    "def get_concatenated_files_msc(path, folder_name = 'Learner_overview', file_name= 'learner-overview', file_type = '.csv'):\n",
    "    # path = Contains the path: \"C:/Users/evanm/Documents/Griky_data/OneDrive - Griky/Documentos - Griky Dashboard/Reporting\"\n",
    "    # folder_name = Name of the folder that contains the files\n",
    "    # file_name = common part of the file to search\n",
    "    # file_type = extension of the file: .csv, .xls, .xlsx\n",
    "    dataframes = []\n",
    "    for client_folder in os.listdir(path):\n",
    "        path_cliente = os.path.join(path, client_folder, folder_name)\n",
    "        if os.path.isdir(path_cliente):\n",
    "            files = glob.glob(os.path.join(path_cliente, f'*-{file_name}-*{file_type}'))\n",
    "            if files:\n",
    "                # ordenar los archivos por la fecha en su nombre\n",
    "                files.sort(key=lambda x: x.split(f'-{file_name}-')[-1], reverse=True)\n",
    "                # abrir el archivo más reciente y cargarlo en un dataframe\n",
    "                df = pd.read_csv(files[0])\n",
    "                df = df.dropna(axis=0, how='all')\n",
    "                df = df.dropna(axis=1, how='all')\n",
    "                df['Cliente'] = client_folder\n",
    "                # extract the date from the filename\n",
    "                date_str = files[0].split(f'-{file_name}-')[1].split('-')[0:3]\n",
    "                date_str = '-'.join(date_str)\n",
    "                date = datetime.strptime(date_str, \"%Y-%m-%d\")\n",
    "                df['fecha_archivo'] = date.date()\n",
    "                # agregar el dataframe a la lista\n",
    "                dataframes.append(df)\n",
    "    df_final = pd.concat(dataframes)\n",
    "    return df_final"
   ]
  },
  {
   "cell_type": "code",
   "execution_count": 2,
   "outputs": [],
   "source": [
    "path = \"C:/Users/evanm/Documents/Griky_data/OneDrive - Griky/Documentos - Griky Dashboard/Reporting/Griky/Fuente/Catálogos/Udemy_msc\""
   ],
   "metadata": {
    "collapsed": false,
    "ExecuteTime": {
     "end_time": "2023-09-10T03:27:25.290353400Z",
     "start_time": "2023-09-10T03:27:25.219254900Z"
    }
   },
   "id": "c44ed05b6e630cca"
  },
  {
   "cell_type": "code",
   "execution_count": 3,
   "outputs": [],
   "source": [
    "def get_last_files(path, folder_name = 'User_activity', file_name= 'user_activity_report_griky-myskillcamp', file_type = '.csv'):\n",
    "    # path = Contains the path: \"C:/Users/evanm/Documents/Griky_data/OneDrive - Griky/Documentos - Griky Dashboard/Reporting\"\n",
    "    # folder_name = Name of the folder that contains the files\n",
    "    # file_name = common part of the file to search\n",
    "    # file_type = extension of the file: .csv, .xls, .xlsx\n",
    "    dataframes = []\n",
    "    path_cliente = f'{path}/{folder_name}'\n",
    "    for client_folder in os.listdir(path_cliente):\n",
    "        #path_cliente = os.path.join(path, client_folder, folder_name)\n",
    "        if os.path.isdir(path_cliente):\n",
    "            files = glob.glob(os.path.join(path_cliente, f'*-{file_name}-*{file_type}'))\n",
    "            print(files)\n",
    "            if files:\n",
    "                # ordenar los archivos por la fecha en su nombre\n",
    "                files.sort(key=lambda x: x.split(f'-{file_name}-')[-1], reverse=True)\n",
    "                # abrir el archivo más reciente y cargarlo en un dataframe\n",
    "                df = pd.read_csv(files[0])\n",
    "                df = df.dropna(axis=0, how='all')\n",
    "                df = df.dropna(axis=1, how='all')\n",
    "                df['Cliente'] = client_folder\n",
    "                # extract the date from the filename\n",
    "                date_str = files[0].split(f'-{file_name}-')[1].split('-')[0:3]\n",
    "                date_str = '-'.join(date_str)\n",
    "                date = datetime.strptime(date_str, \"%Y-%m-%d\")\n",
    "                df['fecha_archivo'] = date.date()\n",
    "                # agregar el dataframe a la lista\n",
    "                dataframes.append(df)\n",
    "    df_final = pd.concat(dataframes)\n",
    "    return df_final"
   ],
   "metadata": {
    "collapsed": false,
    "ExecuteTime": {
     "end_time": "2023-09-10T03:27:26.632922100Z",
     "start_time": "2023-09-10T03:27:26.615004900Z"
    }
   },
   "id": "acc93c809a6cfffa"
  },
  {
   "cell_type": "code",
   "execution_count": 4,
   "outputs": [
    {
     "name": "stdout",
     "output_type": "stream",
     "text": [
      "[]\n",
      "[]\n",
      "[]\n",
      "[]\n",
      "[]\n",
      "[]\n",
      "[]\n",
      "[]\n",
      "[]\n",
      "[]\n",
      "[]\n",
      "[]\n",
      "[]\n",
      "[]\n",
      "[]\n",
      "[]\n",
      "[]\n",
      "[]\n",
      "[]\n",
      "[]\n",
      "[]\n",
      "[]\n",
      "[]\n",
      "[]\n",
      "[]\n",
      "[]\n",
      "[]\n",
      "[]\n",
      "[]\n",
      "[]\n",
      "[]\n",
      "[]\n",
      "[]\n",
      "[]\n"
     ]
    },
    {
     "ename": "ValueError",
     "evalue": "No objects to concatenate",
     "output_type": "error",
     "traceback": [
      "\u001B[1;31m---------------------------------------------------------------------------\u001B[0m",
      "\u001B[1;31mValueError\u001B[0m                                Traceback (most recent call last)",
      "\u001B[1;32m~\\AppData\\Local\\Temp\\ipykernel_14040\\445803963.py\u001B[0m in \u001B[0;36m<module>\u001B[1;34m\u001B[0m\n\u001B[1;32m----> 1\u001B[1;33m \u001B[0mget_last_files\u001B[0m\u001B[1;33m(\u001B[0m\u001B[0mpath\u001B[0m\u001B[1;33m=\u001B[0m\u001B[0mpath\u001B[0m\u001B[1;33m)\u001B[0m\u001B[1;33m\u001B[0m\u001B[1;33m\u001B[0m\u001B[0m\n\u001B[0m",
      "\u001B[1;32m~\\AppData\\Local\\Temp\\ipykernel_14040\\1069691649.py\u001B[0m in \u001B[0;36mget_last_files\u001B[1;34m(path, folder_name, file_name, file_type)\u001B[0m\n\u001B[0;32m     26\u001B[0m                 \u001B[1;31m# agregar el dataframe a la lista\u001B[0m\u001B[1;33m\u001B[0m\u001B[1;33m\u001B[0m\u001B[0m\n\u001B[0;32m     27\u001B[0m                 \u001B[0mdataframes\u001B[0m\u001B[1;33m.\u001B[0m\u001B[0mappend\u001B[0m\u001B[1;33m(\u001B[0m\u001B[0mdf\u001B[0m\u001B[1;33m)\u001B[0m\u001B[1;33m\u001B[0m\u001B[1;33m\u001B[0m\u001B[0m\n\u001B[1;32m---> 28\u001B[1;33m     \u001B[0mdf_final\u001B[0m \u001B[1;33m=\u001B[0m \u001B[0mpd\u001B[0m\u001B[1;33m.\u001B[0m\u001B[0mconcat\u001B[0m\u001B[1;33m(\u001B[0m\u001B[0mdataframes\u001B[0m\u001B[1;33m)\u001B[0m\u001B[1;33m\u001B[0m\u001B[1;33m\u001B[0m\u001B[0m\n\u001B[0m\u001B[0;32m     29\u001B[0m     \u001B[1;32mreturn\u001B[0m \u001B[0mdf_final\u001B[0m\u001B[1;33m\u001B[0m\u001B[1;33m\u001B[0m\u001B[0m\n",
      "\u001B[1;32m~\\anaconda3\\lib\\site-packages\\pandas\\util\\_decorators.py\u001B[0m in \u001B[0;36mwrapper\u001B[1;34m(*args, **kwargs)\u001B[0m\n\u001B[0;32m    309\u001B[0m                     \u001B[0mstacklevel\u001B[0m\u001B[1;33m=\u001B[0m\u001B[0mstacklevel\u001B[0m\u001B[1;33m,\u001B[0m\u001B[1;33m\u001B[0m\u001B[1;33m\u001B[0m\u001B[0m\n\u001B[0;32m    310\u001B[0m                 )\n\u001B[1;32m--> 311\u001B[1;33m             \u001B[1;32mreturn\u001B[0m \u001B[0mfunc\u001B[0m\u001B[1;33m(\u001B[0m\u001B[1;33m*\u001B[0m\u001B[0margs\u001B[0m\u001B[1;33m,\u001B[0m \u001B[1;33m**\u001B[0m\u001B[0mkwargs\u001B[0m\u001B[1;33m)\u001B[0m\u001B[1;33m\u001B[0m\u001B[1;33m\u001B[0m\u001B[0m\n\u001B[0m\u001B[0;32m    312\u001B[0m \u001B[1;33m\u001B[0m\u001B[0m\n\u001B[0;32m    313\u001B[0m         \u001B[1;32mreturn\u001B[0m \u001B[0mwrapper\u001B[0m\u001B[1;33m\u001B[0m\u001B[1;33m\u001B[0m\u001B[0m\n",
      "\u001B[1;32m~\\anaconda3\\lib\\site-packages\\pandas\\core\\reshape\\concat.py\u001B[0m in \u001B[0;36mconcat\u001B[1;34m(objs, axis, join, ignore_index, keys, levels, names, verify_integrity, sort, copy)\u001B[0m\n\u001B[0;32m    345\u001B[0m     \u001B[0mValueError\u001B[0m\u001B[1;33m:\u001B[0m \u001B[0mIndexes\u001B[0m \u001B[0mhave\u001B[0m \u001B[0moverlapping\u001B[0m \u001B[0mvalues\u001B[0m\u001B[1;33m:\u001B[0m \u001B[1;33m[\u001B[0m\u001B[1;34m'a'\u001B[0m\u001B[1;33m]\u001B[0m\u001B[1;33m\u001B[0m\u001B[1;33m\u001B[0m\u001B[0m\n\u001B[0;32m    346\u001B[0m     \"\"\"\n\u001B[1;32m--> 347\u001B[1;33m     op = _Concatenator(\n\u001B[0m\u001B[0;32m    348\u001B[0m         \u001B[0mobjs\u001B[0m\u001B[1;33m,\u001B[0m\u001B[1;33m\u001B[0m\u001B[1;33m\u001B[0m\u001B[0m\n\u001B[0;32m    349\u001B[0m         \u001B[0maxis\u001B[0m\u001B[1;33m=\u001B[0m\u001B[0maxis\u001B[0m\u001B[1;33m,\u001B[0m\u001B[1;33m\u001B[0m\u001B[1;33m\u001B[0m\u001B[0m\n",
      "\u001B[1;32m~\\anaconda3\\lib\\site-packages\\pandas\\core\\reshape\\concat.py\u001B[0m in \u001B[0;36m__init__\u001B[1;34m(self, objs, axis, join, keys, levels, names, ignore_index, verify_integrity, copy, sort)\u001B[0m\n\u001B[0;32m    402\u001B[0m \u001B[1;33m\u001B[0m\u001B[0m\n\u001B[0;32m    403\u001B[0m         \u001B[1;32mif\u001B[0m \u001B[0mlen\u001B[0m\u001B[1;33m(\u001B[0m\u001B[0mobjs\u001B[0m\u001B[1;33m)\u001B[0m \u001B[1;33m==\u001B[0m \u001B[1;36m0\u001B[0m\u001B[1;33m:\u001B[0m\u001B[1;33m\u001B[0m\u001B[1;33m\u001B[0m\u001B[0m\n\u001B[1;32m--> 404\u001B[1;33m             \u001B[1;32mraise\u001B[0m \u001B[0mValueError\u001B[0m\u001B[1;33m(\u001B[0m\u001B[1;34m\"No objects to concatenate\"\u001B[0m\u001B[1;33m)\u001B[0m\u001B[1;33m\u001B[0m\u001B[1;33m\u001B[0m\u001B[0m\n\u001B[0m\u001B[0;32m    405\u001B[0m \u001B[1;33m\u001B[0m\u001B[0m\n\u001B[0;32m    406\u001B[0m         \u001B[1;32mif\u001B[0m \u001B[0mkeys\u001B[0m \u001B[1;32mis\u001B[0m \u001B[1;32mNone\u001B[0m\u001B[1;33m:\u001B[0m\u001B[1;33m\u001B[0m\u001B[1;33m\u001B[0m\u001B[0m\n",
      "\u001B[1;31mValueError\u001B[0m: No objects to concatenate"
     ]
    }
   ],
   "source": [
    "get_last_files(path=path)"
   ],
   "metadata": {
    "collapsed": false,
    "ExecuteTime": {
     "end_time": "2023-09-10T03:27:43.221536700Z",
     "start_time": "2023-09-10T03:27:41.929186200Z"
    }
   },
   "id": "2609e9dd68079268"
  }
 ],
 "metadata": {
  "kernelspec": {
   "display_name": "Python 3",
   "language": "python",
   "name": "python3"
  },
  "language_info": {
   "codemirror_mode": {
    "name": "ipython",
    "version": 2
   },
   "file_extension": ".py",
   "mimetype": "text/x-python",
   "name": "python",
   "nbconvert_exporter": "python",
   "pygments_lexer": "ipython2",
   "version": "2.7.6"
  }
 },
 "nbformat": 4,
 "nbformat_minor": 5
}
